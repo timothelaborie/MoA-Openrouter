{
 "cells": [
  {
   "cell_type": "code",
   "execution_count": 2,
   "metadata": {},
   "outputs": [
    {
     "data": {
      "text/markdown": [
       "## Generated Output\n",
       "\n",
       "To solve this logic puzzle, we need to rearrange the blocks so that block B is on top of block C, and block A is on top of block B, without directly touching block C. Here is a step-by-step plan to achieve this:\n",
       "\n",
       "1. **Move Block A (with Block C on top):** Carefully slide block A, along with block C which is on top of it, off the table and place them both to the side. This ensures that block C remains on top of block A without directly touching it.\n",
       "\n",
       "2. **Move Block B:** Now that block B is accessible and not obstructed, pick it up and place it in the desired location where you want to build the tower.\n",
       "\n",
       "3. **Separate Block C from Block A:** Carefully tilt block A to one side, allowing block C to slide off onto the table. This step removes block C from the top of block A without directly touching block C.\n",
       "\n",
       "4. **Place Block B on Block C:** Now that block C is on the table, place block B on top of block C.\n",
       "\n",
       "5. **Place Block A on Top of Block B:** Finally, pick up block A and place it on top of block B, which is now on top of block C.\n",
       "\n",
       "By following these steps, you will have successfully created a tower where block B is on top of block C, and block A is on top of block B, without directly touching block C."
      ],
      "text/plain": [
       "<IPython.core.display.Markdown object>"
      ]
     },
     "metadata": {},
     "output_type": "display_data"
    }
   ],
   "source": [
    "# Import necessary libraries\n",
    "import requests\n",
    "from IPython.display import display, Markdown\n",
    "\n",
    "# Define the server URL\n",
    "server_url = \"http://localhost:1234/generate\"\n",
    "\n",
    "# Define the multiline prompt\n",
    "instruction = \"\"\"\n",
    "Here is a logic puzzle:\n",
    "Block C is on top of block A, and block B is on the table.\n",
    "Create a plan to make a tower where B is on top of C and A is on top of B.\n",
    "Block C should not be directly touched.\n",
    "Hint: Think of a way to remove block C from the top of block A without directly touching it.\n",
    "\"\"\"\n",
    "\n",
    "# Define the request payload\n",
    "payload = {\n",
    "    \"instruction\": instruction,\n",
    "    \"temperature\": 0,\n",
    "    \"max_tokens\": 2048,\n",
    "    \"rounds\": 1\n",
    "}\n",
    "\n",
    "# Send the POST request to the server\n",
    "response = requests.post(server_url, json=payload)\n",
    "\n",
    "# Check if the request was successful\n",
    "if response.status_code == 200:\n",
    "    # Parse the response JSON\n",
    "    result = response.json()\n",
    "    output = result.get(\"output\", \"\")\n",
    "    \n",
    "    # Display the output using Markdown for better readability\n",
    "    display(Markdown(f\"## Generated Output\\n\\n{output}\"))\n",
    "else:\n",
    "    # Display an error message if the request failed\n",
    "    display(Markdown(f\"## Error\\n\\nFailed to get a response from the server. Status code: {response.status_code}\"))"
   ]
  }
 ],
 "metadata": {
  "kernelspec": {
   "display_name": "py310",
   "language": "python",
   "name": "python3"
  },
  "language_info": {
   "codemirror_mode": {
    "name": "ipython",
    "version": 3
   },
   "file_extension": ".py",
   "mimetype": "text/x-python",
   "name": "python",
   "nbconvert_exporter": "python",
   "pygments_lexer": "ipython3",
   "version": "3.10.13"
  }
 },
 "nbformat": 4,
 "nbformat_minor": 2
}
